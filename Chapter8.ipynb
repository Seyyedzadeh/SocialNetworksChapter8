{
 "cells": [
  {
   "cell_type": "code",
   "execution_count": 48,
   "metadata": {},
   "outputs": [],
   "source": [
    "import networkx as nx\n",
    "import matplotlib.pyplot as plt\n",
    "from collections import Counter\n",
    "from operator import itemgetter"
   ]
  },
  {
   "cell_type": "code",
   "execution_count": 5,
   "metadata": {},
   "outputs": [],
   "source": [
    "erYouVotes = 0\n",
    "erRivalVotes: 0\n",
    "erUndecidedVotes = 0\n",
    "\n",
    "pagYouVotes = 0\n",
    "pagRivalVotes: 0\n",
    "pagUndecidedVotes = 0"
   ]
  },
  {
   "cell_type": "code",
   "execution_count": 6,
   "metadata": {},
   "outputs": [],
   "source": [
    "def CalculateProbablity(NodeCount, EdgeCount):\n",
    "    return EdgeCount / (NodeCount * (NodeCount-1) / 2)"
   ]
  },
  {
   "cell_type": "code",
   "execution_count": 7,
   "metadata": {},
   "outputs": [],
   "source": [
    "def GenerateErdosRenyiGraph(NodeCount, EdgeCount):\n",
    "    prob = CalculateProbablity(NodeCount, EdgeCount)\n",
    "    network = nx.erdos_renyi_graph(NodeCount, prob)\n",
    "    return network"
   ]
  },
  {
   "cell_type": "code",
   "execution_count": 8,
   "metadata": {},
   "outputs": [],
   "source": [
    "def GeneratePreferentialAttachmentGraph(NodeCount, OutDegree):\n",
    "    network = nx.barabasi_albert_graph(NodeCount, OutDegree)\n",
    "    return network"
   ]
  },
  {
   "cell_type": "code",
   "execution_count": 9,
   "metadata": {},
   "outputs": [],
   "source": [
    "def FillNetworkData(network):\n",
    "    for node in network.nodes():\n",
    "        last_digit = node % 10\n",
    "        if last_digit in [0, 2, 4, 6]:\n",
    "            network.nodes[node]['vote'] = 'You'\n",
    "        elif last_digit in [1, 3, 5, 7]:\n",
    "            network.nodes[node]['vote'] = 'Rival'\n",
    "        else:\n",
    "            network.nodes[node]['vote'] = 'Undecided'\n",
    "    return network"
   ]
  },
  {
   "cell_type": "code",
   "execution_count": 10,
   "metadata": {},
   "outputs": [],
   "source": [
    "def CountVotes(network):\n",
    "    youVotes = 0\n",
    "    rivalVotes = 0\n",
    "    undecidedVotes = 0\n",
    "    for node in network.nodes():\n",
    "        if network.nodes[node]['vote'] == 'You':\n",
    "            youVotes += 1\n",
    "        elif network.nodes[node]['vote'] == 'Rival':\n",
    "            rivalVotes += 1\n",
    "        else:\n",
    "            undecidedVotes += 1\n",
    "    return youVotes, rivalVotes, undecidedVotes"
   ]
  },
  {
   "cell_type": "code",
   "execution_count": 11,
   "metadata": {},
   "outputs": [],
   "source": [
    "erNet = GenerateErdosRenyiGraph(10000, 10000)\n",
    "paNet = GeneratePreferentialAttachmentGraph(10000, 10)\n",
    "\n",
    "erNet = FillNetworkData(erNet)\n",
    "paNet = FillNetworkData(paNet)"
   ]
  },
  {
   "cell_type": "code",
   "execution_count": 12,
   "metadata": {},
   "outputs": [
    {
     "name": "stdout",
     "output_type": "stream",
     "text": [
      "ER Net ==> You : 4000 ,Rival : 4000, Undecided : 2000\n"
     ]
    }
   ],
   "source": [
    "erYouVotes, erRivalVotes, erUndecidedVotes = CountVotes(erNet)\n",
    "print(\n",
    "    f\"ER Net ==> You : {erYouVotes} ,Rival : {erRivalVotes}, Undecided : {erUndecidedVotes}\")"
   ]
  },
  {
   "cell_type": "code",
   "execution_count": 13,
   "metadata": {},
   "outputs": [
    {
     "name": "stdout",
     "output_type": "stream",
     "text": [
      "PA Net ==> You : 4000 ,Rival : 4000, Undecided : 2000\n"
     ]
    }
   ],
   "source": [
    "pagYouVotes, pagRivalVotes, pagUndecidedVotes = CountVotes(paNet)\n",
    "print(\n",
    "    f\"PA Net ==> You : {pagYouVotes} ,Rival : {pagRivalVotes}, Undecided : {pagUndecidedVotes}\")"
   ]
  },
  {
   "cell_type": "code",
   "execution_count": 14,
   "metadata": {},
   "outputs": [],
   "source": [
    "def ApplyFriendsEffct(network):\n",
    "    for electtionDay in range(1, 11):\n",
    "        newYou = 0\n",
    "        newRival = 0\n",
    "        for node in network.nodes():\n",
    "            if network.nodes[node]['vote'] == 'Undecided':\n",
    "                newYou = 0\n",
    "                newRival = 0\n",
    "                for neib in network.neighbors(node):\n",
    "                    if network.nodes[neib]['vote'] == 'You':\n",
    "                        newYou += 1\n",
    "                    elif network.nodes[neib]['vote'] == 'Rival':\n",
    "                        newRival += 1\n",
    "\n",
    "                if newYou > newRival:\n",
    "                    network.nodes[node]['vote'] = 'You'\n",
    "                elif newYou < newRival:\n",
    "                    network.nodes[node]['vote'] = 'Rival'\n",
    "                else:\n",
    "                    if electtionDay % 2 == 1:\n",
    "                        network.nodes[node]['vote'] = 'You'\n",
    "                    else:\n",
    "                        network.nodes[node]['vote'] = 'Rival'\n",
    "\n",
    "    return network"
   ]
  },
  {
   "cell_type": "code",
   "execution_count": 15,
   "metadata": {},
   "outputs": [
    {
     "name": "stdout",
     "output_type": "stream",
     "text": [
      "ER Net ==> You : 5376 ,Rival : 4624, Undecided : 0\n",
      "PA Net ==> You : 5152 ,Rival : 4848, Undecided : 0\n"
     ]
    }
   ],
   "source": [
    "erNet = ApplyFriendsEffct(erNet)\n",
    "erYouVotes, erRivalVotes, erUndecidedVotes = CountVotes(erNet)\n",
    "print(\n",
    "    f\"ER Net ==> You : {erYouVotes} ,Rival : {erRivalVotes}, Undecided : {erUndecidedVotes}\")\n",
    "\n",
    "paNet = ApplyFriendsEffct(paNet)\n",
    "pagYouVotes, pagRivalVotes, pagUndecidedVotes = CountVotes(paNet)\n",
    "print(\n",
    "    f\"PA Net ==> You : {pagYouVotes} ,Rival : {pagRivalVotes}, Undecided : {pagUndecidedVotes}\")"
   ]
  },
  {
   "cell_type": "code",
   "execution_count": 16,
   "metadata": {},
   "outputs": [
    {
     "name": "stdout",
     "output_type": "stream",
     "text": [
      "Winner in Erdos renyi Network : You  Margin :752\n"
     ]
    }
   ],
   "source": [
    "erMargin = erYouVotes - erRivalVotes\n",
    "if erMargin > 0:\n",
    "    print(f\"Winner in Erdos renyi Network : You  Margin :{erMargin}\")\n",
    "elif erMargin < 0:\n",
    "    print(f\"Winner in Erdos renyi Network : Rival  Margin: {-erMargin}\")\n",
    "else:\n",
    "    print(\"Winner in Erdos renyi Network : Nobody\")"
   ]
  },
  {
   "cell_type": "code",
   "execution_count": 17,
   "metadata": {},
   "outputs": [
    {
     "name": "stdout",
     "output_type": "stream",
     "text": [
      "Winner in preferential Network : You  Margin :304\n"
     ]
    }
   ],
   "source": [
    "paMargin = pagYouVotes - pagRivalVotes\n",
    "if paMargin > 0:\n",
    "    print(f\"Winner in preferential Network : You  Margin :{paMargin}\")\n",
    "elif erMargin < 0:\n",
    "    print(f\"Winner in preferential Network : Rival  Margin: {-paMargin}\")\n",
    "else:\n",
    "    print(\"Winner in preferential Network : Nobody\")"
   ]
  },
  {
   "cell_type": "code",
   "execution_count": 18,
   "metadata": {},
   "outputs": [],
   "source": [
    "def ApplyLiveStreamEffect(network, spend):\n",
    "    effect = int(spend / 100)\n",
    "    firstNode = 3000\n",
    "    lastNode = firstNode+effect\n",
    "\n",
    "    node = firstNode\n",
    "    while node < lastNode:\n",
    "        network.nodes[node]['vote'] = 'You'\n",
    "        node = node+1\n",
    "    return network"
   ]
  },
  {
   "cell_type": "code",
   "execution_count": 19,
   "metadata": {},
   "outputs": [
    {
     "name": "stdout",
     "output_type": "stream",
     "text": [
      "ER Net  ==> You : 4000 ,Rival : 4000, Undecided : 2000\n"
     ]
    }
   ],
   "source": [
    "erNet = GenerateErdosRenyiGraph(10000, 10000)\n",
    "paNet = GeneratePreferentialAttachmentGraph(10000, 10)\n",
    "\n",
    "erNet = FillNetworkData(erNet)\n",
    "paNet = FillNetworkData(paNet)\n",
    "\n",
    "erYouVotes, erRivalVotes, erUndecidedVotes = CountVotes(erNet)\n",
    "print(\n",
    "    f\"ER Net  ==> You : {erYouVotes} ,Rival : {erRivalVotes}, Undecided : {erUndecidedVotes}\")"
   ]
  },
  {
   "cell_type": "code",
   "execution_count": 28,
   "metadata": {},
   "outputs": [],
   "source": [
    "def Exp(network, networkName):\n",
    "    min = 1000\n",
    "    max = 10000\n",
    "    step = 1000\n",
    "    s = min\n",
    "    while s <= max:\n",
    "        YouVotes1, RivalVotes1, UndecidedVotes1 = CountVotes(network)\n",
    "        network = ApplyLiveStreamEffect(network, s)\n",
    "        for day in range(1, 11):\n",
    "            network = ApplyFriendsEffct(network)\n",
    "            YouVotes, RivalVotes, UndecidedVotes = CountVotes(network)\n",
    "            print(f\"{networkName} Net day({day})  spend=({s}) ==> You : {YouVotes} ,Rival : {RivalVotes}, Undecided : {UndecidedVotes}\")\n",
    "\n",
    "            if YouVotes1 == YouVotes and RivalVotes1 == RivalVotes and UndecidedVotes1 == UndecidedVotes:\n",
    "                return s, day-1\n",
    "            YouVotes1 = YouVotes\n",
    "            RivalVotes1 = RivalVotes\n",
    "            UndecidedVotes1 = UndecidedVotes\n",
    "\n",
    "    s = s+step"
   ]
  },
  {
   "cell_type": "code",
   "execution_count": 21,
   "metadata": {},
   "outputs": [
    {
     "name": "stdout",
     "output_type": "stream",
     "text": [
      "ER Net day(1)  spend=(1000) ==> You : 5368 ,Rival : 4632, Undecided : 0\n",
      "ER Net day(2)  spend=(1000) ==> You : 5368 ,Rival : 4632, Undecided : 0\n",
      "1000\n",
      "2\n"
     ]
    }
   ],
   "source": [
    "\n",
    "s, day = Exp(erNet, \"ER\")\n",
    "print(s)\n",
    "print(day)"
   ]
  },
  {
   "cell_type": "code",
   "execution_count": 22,
   "metadata": {},
   "outputs": [
    {
     "name": "stdout",
     "output_type": "stream",
     "text": [
      "PA Net day(1)  spend=(1000) ==> You : 5183 ,Rival : 4817, Undecided : 0\n",
      "PA Net day(2)  spend=(1000) ==> You : 5183 ,Rival : 4817, Undecided : 0\n",
      "1000\n",
      "2\n"
     ]
    }
   ],
   "source": [
    "\n",
    "s, day = Exp(paNet, \"PA\")\n",
    "print(s)\n",
    "print(day)"
   ]
  },
  {
   "cell_type": "code",
   "execution_count": 23,
   "metadata": {},
   "outputs": [],
   "source": [
    "def ApplyHighRollersEffect(network, spend):\n",
    "    hCount = spend//100\n",
    "    highRollers = sorted(\n",
    "        network.nodes, key=lambda x: (-network.degree(x), x))[-hCount:]\n",
    "    for node in highRollers:\n",
    "        network.nodes[node]['vote'] = 'You'\n",
    "    return network"
   ]
  },
  {
   "cell_type": "code",
   "execution_count": 29,
   "metadata": {},
   "outputs": [],
   "source": [
    "def ExpHighRollers(network, networkName):\n",
    "    min = 1000\n",
    "    max = 10000\n",
    "    step = 1000\n",
    "    s = min\n",
    "    while s <= max:\n",
    "        YouVotes1, RivalVotes1, UndecidedVotes1 = CountVotes(network)\n",
    "        network = ApplyLiveStreamEffect(network, s)\n",
    "        for day in range(1, 11):\n",
    "            network = ApplyFriendsEffct(network)\n",
    "            YouVotes, RivalVotes, UndecidedVotes = CountVotes(network)\n",
    "            print(f\"{networkName} Net day({day})  spend=({s}) ==> You : {YouVotes} ,Rival : {RivalVotes}, Undecided : {UndecidedVotes}\")\n",
    "            if YouVotes1 == YouVotes and RivalVotes1 == RivalVotes and UndecidedVotes1 == UndecidedVotes:\n",
    "                return s, day-1\n",
    "            YouVotes1 = YouVotes\n",
    "            RivalVotes1 = RivalVotes\n",
    "            UndecidedVotes1 = UndecidedVotes\n",
    "\n",
    "    s = s+step"
   ]
  },
  {
   "cell_type": "code",
   "execution_count": 30,
   "metadata": {},
   "outputs": [
    {
     "name": "stdout",
     "output_type": "stream",
     "text": [
      "ER Net day(1)  spend=(1000) ==> You : 5346 ,Rival : 4654, Undecided : 0\n",
      "ER Net day(2)  spend=(1000) ==> You : 5346 ,Rival : 4654, Undecided : 0\n",
      "1000\n",
      "1\n"
     ]
    }
   ],
   "source": [
    "erNet = GenerateErdosRenyiGraph(10000, 10000)\n",
    "erNet = FillNetworkData(erNet)\n",
    "erNet = ApplyHighRollersEffect(erNet, 1000)\n",
    "s, day = ExpHighRollers(erNet, \"ER\")\n",
    "print(s)\n",
    "print(day)"
   ]
  },
  {
   "cell_type": "code",
   "execution_count": 31,
   "metadata": {},
   "outputs": [
    {
     "name": "stdout",
     "output_type": "stream",
     "text": [
      "PR Net day(1)  spend=(1000) ==> You : 5197 ,Rival : 4803, Undecided : 0\n",
      "PR Net day(2)  spend=(1000) ==> You : 5197 ,Rival : 4803, Undecided : 0\n",
      "1000\n",
      "1\n"
     ]
    }
   ],
   "source": [
    "paNet = GeneratePreferentialAttachmentGraph(10000, 10)\n",
    "paNet = FillNetworkData(paNet)\n",
    "paNet = ApplyHighRollersEffect(paNet, 1000)\n",
    "s, day = ExpHighRollers(paNet, \"PR\")\n",
    "print(s)\n",
    "print(day)"
   ]
  },
  {
   "cell_type": "code",
   "execution_count": 43,
   "metadata": {},
   "outputs": [],
   "source": [
    "T = [1, 1, 1, 1, 1, 4, 1, 0, 4, 1, 1, 1, 1, 1, 1, 1, 0, 0, 0, 1, 0, 4, 0, 1, 4, 0, 1, 1, 1,\n",
    "     4, 0, 1, 1, 1, 1, 0, 0, 0, 0, 1, 1, 0, 0, 1, 0, 0, 0, 0, 1, 1, 0, 0, 4, 1, 1, 4, 1, 4, 0, 1, 0, 1, 1,\n",
    "     1, 0, 4, 0, 1, 0, 1, 0, 0, 0, 1, 0, 1, 1, 1, 0, 1, 0, 0, 0, 1, 1, 1, 1, 1, 0, 4, 0, 4, 0, 0, 1, 1, 1,\n",
    "     4, 0, 4, 0]"
   ]
  },
  {
   "cell_type": "code",
   "execution_count": 44,
   "metadata": {},
   "outputs": [
    {
     "data": {
      "image/png": "[encoded data removed]",
      "text/plain": [
       "<Figure size 640x480 with 1 Axes>"
      ]
     },
     "metadata": {},
     "output_type": "display_data"
    }
   ],
   "source": [
    "plt.xlabel(\"Threshold\")\n",
    "plt.ylabel(\" Count\")\n",
    "plt.hist(T)\n",
    "plt.show()"
   ]
  },
  {
   "cell_type": "code",
   "execution_count": 63,
   "metadata": {},
   "outputs": [
    {
     "name": "stdout",
     "output_type": "stream",
     "text": [
      "{0: 39, 1: 49, 4: 13}\n",
      "{0: 39, 1: 88, 4: 101}\n"
     ]
    },
    {
     "data": {
      "image/png": "[encoded data removed]",
      "text/plain": [
       "<Figure size 640x480 with 1 Axes>"
      ]
     },
     "metadata": {},
     "output_type": "display_data"
    }
   ],
   "source": [
    "\n",
    "# Use the Counter class to count occurrences of each unique threshold value\n",
    "nHist = Counter(T)\n",
    "x =dict( sorted(nHist.items(), key=itemgetter(0)))\n",
    "cnHist=dict()\n",
    "cs=0\n",
    "for node in x.keys():\n",
    "    cnHist[node]=cs+x[node]\n",
    "    cs=cs+x[node]\n",
    "print(x)\n",
    "print(cnHist)\n",
    "\n",
    "plt.xlabel(\"Threshold\")\n",
    "plt.ylabel(\" Count\")\n",
    "plt.bar(cnHist.keys(),cnHist.values())\n",
    "plt.show()"
   ]
  }
 ],
 "metadata": {
  "kernelspec": {
   "display_name": "Python 3",
   "language": "python",
   "name": "python3"
  },
  "language_info": {
   "codemirror_mode": {
    "name": "ipython",
    "version": 3
   },
   "file_extension": ".py",
   "mimetype": "text/x-python",
   "name": "python",
   "nbconvert_exporter": "python",
   "pygments_lexer": "ipython3",
   "version": "3.11.4"
  },
  "orig_nbformat": 4
 },
 "nbformat": 4,
 "nbformat_minor": 2
}
